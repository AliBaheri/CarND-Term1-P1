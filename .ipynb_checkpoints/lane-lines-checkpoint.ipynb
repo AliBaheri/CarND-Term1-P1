{
 "cells": [
  {
   "cell_type": "markdown",
   "metadata": {},
   "source": [
    "In this cell we detect lane lines by color and region."
   ]
  },
  {
   "cell_type": "code",
   "execution_count": 19,
   "metadata": {
    "collapsed": false,
    "deletable": true,
    "editable": true
   },
   "outputs": [],
   "source": [
    "import matplotlib.pyplot as plt\n",
    "import matplotlib.image as mpimg\n",
    "import numpy as np\n",
    "\n",
    "# Read in the image and print out some stats\n",
    "# Note: in the previous example we were reading a .jpg \n",
    "# Here we read a .png and convert to 0,255 bytescale\n",
    "image = mpimg.imread('images/lane-lines-test.jpg')\n",
    "\n",
    "# Grab the x and y size and make a copy of the image\n",
    "ysize = image.shape[0]\n",
    "xsize = image.shape[1]\n",
    "color_select = np.copy(image)\n",
    "line_image = np.copy(image)\n",
    "\n",
    "# print(image.shape)\n",
    "\n",
    "# Define color selection criteria\n",
    "# MODIFY THESE VARIABLES TO MAKE YOUR COLOR SELECTION\n",
    "thresh_num = 200\n",
    "red_threshold, green_threshold, blue_threshold = thresh_num, thresh_num, thresh_num\n",
    "rgb_threshold = [red_threshold, green_threshold, blue_threshold]\n",
    "\n",
    "# Define the vertices of a triangular mask.\n",
    "# Keep in mind the origin (x=0, y=0) is in the upper left\n",
    "# MODIFY THESE VALUES TO ISOLATE THE REGION \n",
    "# WHERE THE LANE LINES ARE IN THE IMAGE\n",
    "left_bottom = [0, ysize]\n",
    "right_bottom = [xsize, ysize]\n",
    "apex = [xsize//2, ysize//2]\n",
    "\n",
    "# Perform a linear fit (y=Ax+B) to each of the three sides of the triangle\n",
    "# np.polyfit returns the coefficients [A, B] of the fit\n",
    "fit_left = np.polyfit((left_bottom[0], apex[0]), (left_bottom[1], apex[1]), 1)\n",
    "fit_right = np.polyfit((right_bottom[0], apex[0]), (right_bottom[1], apex[1]), 1)\n",
    "fit_bottom = np.polyfit((left_bottom[0], right_bottom[0]), (left_bottom[1], right_bottom[1]), 1)\n",
    "\n",
    "# print(fit_left)\n",
    "# print(fit_right)\n",
    "# print(fit_bottom)\n",
    "\n",
    "# Mask pixels below the threshold\n",
    "color_thresholds = (image[:,:,0] < rgb_threshold[0]) | \\\n",
    "                    (image[:,:,1] < rgb_threshold[1]) | \\\n",
    "                    (image[:,:,2] < rgb_threshold[2])\n",
    "        \n",
    "# print(color_thresholds)\n",
    "        \n",
    "# Find the region inside the lines\n",
    "# This gets a 2D array of the X-indices and Y-indices of the same size as our image\n",
    "XX, YY = np.meshgrid(np.arange(0, xsize), np.arange(0, ysize))\n",
    "\n",
    "region_thresholds = (YY > (XX*fit_left[0] + fit_left[1])) & \\\n",
    "                    (YY > (XX*fit_right[0] + fit_right[1])) & \\\n",
    "                    (YY < (XX*fit_bottom[0] + fit_bottom[1]))\n",
    "        \n",
    "# print(region_thresholds)\n",
    "                    \n",
    "# Mask color and region selection\n",
    "# If the color_select image doesn't pass the color threshold or is NOT in the region threshold, black out\n",
    "# This leaves only pixels in the region of white-ish color\n",
    "color_select[color_thresholds | ~region_thresholds] = [0, 0, 0]\n",
    "# Color pixels red where both color and region selections met\n",
    "line_image[~color_thresholds & region_thresholds] = [255, 0, 0]\n",
    "\n",
    "# Display the image and show region and color selections\n",
    "x = [left_bottom[0], right_bottom[0], apex[0], left_bottom[0]]\n",
    "y = [left_bottom[1], right_bottom[1], apex[1], left_bottom[1]]\n",
    "plt.plot(x, y, 'b--', lw=4)\n",
    "plt.imshow(image)\n",
    "plt.imshow(color_select)\n",
    "plt.imshow(line_image)\n",
    "\n",
    "im_dir = \"./images/test/\"\n",
    "mpimg.imsave(\"{0}image.jpg\".format(im_dir), image)\n",
    "mpimg.imsave(\"{0}color-select.jpg\".format(im_dir), color_select)\n",
    "mpimg.imsave(\"{0}line_image.jpg\".format(im_dir), line_image)"
   ]
  },
  {
   "cell_type": "markdown",
   "metadata": {
    "collapsed": true,
    "deletable": true,
    "editable": true
   },
   "source": [
    "In this cell we apply gaussian smoothing."
   ]
  },
  {
   "cell_type": "code",
   "execution_count": 33,
   "metadata": {
    "collapsed": false
   },
   "outputs": [],
   "source": [
    "# Do all the relevant imports\n",
    "import matplotlib.pyplot as plt\n",
    "import matplotlib.image as mpimg\n",
    "import numpy as np\n",
    "import cv2\n",
    "\n",
    "# Read in the image and convert to grayscale\n",
    "# Note: in the previous example we were reading a .jpg \n",
    "# Here we read a .png and convert to 0,255 bytescale\n",
    "image = mpimg.imread('./images/exit-ramp.jpg')\n",
    "gray = cv2.cvtColor(image,cv2.COLOR_RGB2GRAY)\n",
    "\n",
    "# Define a kernel size for Gaussian smoothing / blurring\n",
    "kernel_size = 3 # Must be an odd number (3, 5, 7...)\n",
    "blur_gray = cv2.GaussianBlur(gray,(kernel_size, kernel_size),0)\n",
    "\n",
    "# Define our parameters for Canny and run it\n",
    "low_threshold = 256//4\n",
    "high_threshold = 3*256//4\n",
    "edges = cv2.Canny(blur_gray, low_threshold, high_threshold)\n",
    "\n",
    "# Display the image\n",
    "# plt.imshow(blur_gray, cmap='Greys_r')\n",
    "\n",
    "im_dir = \"./images/test/\"\n",
    "mpimg.imsave(\"{0}edges.jpg\".format(im_dir), edges)"
   ]
  },
  {
   "cell_type": "code",
   "execution_count": null,
   "metadata": {
    "collapsed": true
   },
   "outputs": [],
   "source": []
  }
 ],
 "metadata": {
  "kernelspec": {
   "display_name": "Python 3",
   "language": "python",
   "name": "python3"
  },
  "language_info": {
   "codemirror_mode": {
    "name": "ipython",
    "version": 3
   },
   "file_extension": ".py",
   "mimetype": "text/x-python",
   "name": "python",
   "nbconvert_exporter": "python",
   "pygments_lexer": "ipython3",
   "version": "3.5.2"
  },
  "widgets": {
   "state": {},
   "version": "1.1.2"
  }
 },
 "nbformat": 4,
 "nbformat_minor": 2
}
